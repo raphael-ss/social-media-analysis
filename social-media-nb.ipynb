{
 "cells": [
  {
   "cell_type": "markdown",
   "id": "09fb699e",
   "metadata": {},
   "source": [
    "# Visualizações e Métricas - Social Media\n",
    "\n",
    "## Instagram\n",
    "\n",
    "### Alcance x Tempo\n",
    "\n",
    "Alcance no Instagram é definido pelo total de usuários que viram algum conteúdo da sua página numa faixa de tempo determinada."
   ]
  },
  {
   "cell_type": "code",
   "execution_count": null,
   "id": "cdd3a452",
   "metadata": {},
   "outputs": [],
   "source": []
  }
 ],
 "metadata": {
  "kernelspec": {
   "display_name": "Python 3 (ipykernel)",
   "language": "python",
   "name": "python3"
  },
  "language_info": {
   "codemirror_mode": {
    "name": "ipython",
    "version": 3
   },
   "file_extension": ".py",
   "mimetype": "text/x-python",
   "name": "python",
   "nbconvert_exporter": "python",
   "pygments_lexer": "ipython3",
   "version": "3.11.4"
  }
 },
 "nbformat": 4,
 "nbformat_minor": 5
}
